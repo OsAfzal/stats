{
 "cells": [
  {
   "cell_type": "code",
   "execution_count": 1,
   "id": "8593d5c7-deb2-404c-8d4d-f333e173a4b9",
   "metadata": {},
   "outputs": [],
   "source": [
    "import pandas as pd\n",
    "import npstat"
   ]
  },
  {
   "cell_type": "code",
   "execution_count": 2,
   "id": "bb05c54b-b4ad-4aab-bf87-083318bd0f9d",
   "metadata": {},
   "outputs": [],
   "source": [
    "df = pd.read_csv('Data/cosmetics data sheet.csv')"
   ]
  },
  {
   "cell_type": "code",
   "execution_count": 3,
   "id": "b543562c-7955-4c19-9e5d-362e72925fc3",
   "metadata": {},
   "outputs": [],
   "source": [
    "cls = ['Age', 'Gender', 'Maritalstatus', 'Education', 'currentsalary', 'Occupation',\n",
    "       'Residence', 'City', 'No.ofchildren', 'No.ofmiscarriages']\n",
    "test = ['anychronicillness', 'historyofchildbirthwithcongenitalabnormalities',\n",
    "       'cosmeticsafepregnancy', 'cosmeticcontrolledorrestricted',\n",
    "       'ingredientbeforepurchasing', 'cosmeticharmfetus',\n",
    "       'realtivefetusabnormality', 'healthcareproviderdiscusssafety',\n",
    "       'antiagingcream', 'skinlightningcream', 'antiacne', 'gelspray',\n",
    "       'deogel', 'conditioner', 'preferalternative', 'source', 'lipbefore',\n",
    "       'lipduring', 'lipalternate', 'hairbefore', 'hairduring',\n",
    "       'hairalternate', 'deobefore', 'deoduring', 'deoalternate', 'soapbefore',\n",
    "       'soapduring', 'soapalternate', 'facebefore', 'faceduring',\n",
    "       'facealternate', 'antiwrinklebefore', 'antiwrinkleduring',\n",
    "       'antiwrinklealternate', 'sanitizerbefore', 'sanitizerduring',\n",
    "       'sanitizeralternate', 'medshampoobefore', 'medshampooduring',\n",
    "       'medshampooalternate', 'nonmedshampoobefore', 'nonmedshampooduring',\n",
    "       'nonmedshampooalternate', 'nailbefore', 'nailduring', 'nailalternate',]"
   ]
  },
  {
   "cell_type": "code",
   "execution_count": 4,
   "id": "40d96811-6a91-40ef-9f97-e18860fa496c",
   "metadata": {},
   "outputs": [],
   "source": [
    "results = npstat.chi_square(df, cls, test)"
   ]
  },
  {
   "cell_type": "code",
   "execution_count": 6,
   "id": "e8a78edb-3f71-48f2-9bda-de7f009bb066",
   "metadata": {},
   "outputs": [],
   "source": [
    "results.to_excel('Data/Cosmetics_chi2.xlsx')"
   ]
  },
  {
   "cell_type": "code",
   "execution_count": null,
   "id": "f82002e3-c8ff-4c1d-bc23-910a420e991e",
   "metadata": {},
   "outputs": [],
   "source": []
  }
 ],
 "metadata": {
  "kernelspec": {
   "display_name": "Python 3",
   "language": "python",
   "name": "python3"
  },
  "language_info": {
   "codemirror_mode": {
    "name": "ipython",
    "version": 3
   },
   "file_extension": ".py",
   "mimetype": "text/x-python",
   "name": "python",
   "nbconvert_exporter": "python",
   "pygments_lexer": "ipython3",
   "version": "3.12.1"
  }
 },
 "nbformat": 4,
 "nbformat_minor": 5
}
